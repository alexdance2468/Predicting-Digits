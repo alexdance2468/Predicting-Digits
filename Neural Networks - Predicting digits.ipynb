{
 "cells": [
  {
   "cell_type": "markdown",
   "metadata": {
    "colab_type": "text",
    "id": "26KthBFty-QG"
   },
   "source": [
    "By Alex Dance\n",
    "https://www.linkedin.com/in/alex-dance/"
   ]
  },
  {
   "cell_type": "markdown",
   "metadata": {
    "colab_type": "text",
    "id": "W5NydEUxy-QJ"
   },
   "source": []
  },
  {
   "cell_type": "markdown",
   "metadata": {
    "colab_type": "text",
    "id": "9n746euhy-QN"
   },
   "source": [
    "## Written digits classification with Keras"
   ]
  },
  {
   "cell_type": "code",
   "execution_count": 2,
   "metadata": {},
   "outputs": [
    {
     "name": "stdout",
     "output_type": "stream",
     "text": [
      "Collecting keras.models\n",
      "  Downloading keras_models-0.0.7-py3-none-any.whl (18 kB)\n",
      "Collecting keras\n",
      "  Downloading Keras-2.3.1-py2.py3-none-any.whl (377 kB)\n",
      "Collecting spacy\n",
      "  Downloading spacy-2.2.4-cp37-cp37m-win_amd64.whl (9.9 MB)\n",
      "Collecting pathlib\n",
      "  Downloading pathlib-1.0.1.tar.gz (49 kB)\n",
      "Requirement already satisfied: numpy in c:\\users\\alexd\\anaconda3\\lib\\site-packages (from keras.models) (1.18.1)\n",
      "Collecting opencv-python\n",
      "  Downloading opencv_python-4.2.0.34-cp37-cp37m-win_amd64.whl (33.0 MB)\n",
      "Requirement already satisfied: Pillow in c:\\users\\alexd\\anaconda3\\lib\\site-packages (from keras.models) (7.0.0)\n",
      "Collecting keras-preprocessing>=1.0.5\n",
      "  Downloading Keras_Preprocessing-1.1.2-py2.py3-none-any.whl (42 kB)\n",
      "Requirement already satisfied: pyyaml in c:\\users\\alexd\\anaconda3\\lib\\site-packages (from keras->keras.models) (5.3)\n",
      "Requirement already satisfied: scipy>=0.14 in c:\\users\\alexd\\anaconda3\\lib\\site-packages (from keras->keras.models) (1.4.1)\n",
      "Requirement already satisfied: six>=1.9.0 in c:\\users\\alexd\\anaconda3\\lib\\site-packages (from keras->keras.models) (1.14.0)\n",
      "Collecting keras-applications>=1.0.6\n",
      "  Downloading Keras_Applications-1.0.8-py3-none-any.whl (50 kB)\n",
      "Requirement already satisfied: h5py in c:\\users\\alexd\\anaconda3\\lib\\site-packages (from keras->keras.models) (2.10.0)\n",
      "Collecting blis<0.5.0,>=0.4.0\n",
      "  Downloading blis-0.4.1-cp37-cp37m-win_amd64.whl (5.0 MB)\n",
      "Collecting catalogue<1.1.0,>=0.0.7\n",
      "  Downloading catalogue-1.0.0-py2.py3-none-any.whl (7.7 kB)\n",
      "Collecting thinc==7.4.0\n",
      "  Downloading thinc-7.4.0-cp37-cp37m-win_amd64.whl (2.1 MB)\n",
      "Collecting cymem<2.1.0,>=2.0.2\n",
      "  Downloading cymem-2.0.3-cp37-cp37m-win_amd64.whl (32 kB)\n",
      "Collecting murmurhash<1.1.0,>=0.28.0\n",
      "  Downloading murmurhash-1.0.2-cp37-cp37m-win_amd64.whl (20 kB)\n",
      "Collecting preshed<3.1.0,>=3.0.2\n",
      "  Downloading preshed-3.0.2-cp37-cp37m-win_amd64.whl (105 kB)\n",
      "Requirement already satisfied: tqdm<5.0.0,>=4.38.0 in c:\\users\\alexd\\anaconda3\\lib\\site-packages (from spacy->keras.models) (4.46.0)\n",
      "Collecting srsly<1.1.0,>=1.0.2\n",
      "  Downloading srsly-1.0.2-cp37-cp37m-win_amd64.whl (179 kB)\n",
      "Requirement already satisfied: setuptools in c:\\users\\alexd\\anaconda3\\lib\\site-packages (from spacy->keras.models) (45.2.0.post20200210)\n",
      "Collecting wasabi<1.1.0,>=0.4.0\n",
      "  Downloading wasabi-0.6.0-py3-none-any.whl (20 kB)\n",
      "Collecting plac<1.2.0,>=0.9.6\n",
      "  Downloading plac-1.1.3-py2.py3-none-any.whl (20 kB)\n",
      "Requirement already satisfied: requests<3.0.0,>=2.13.0 in c:\\users\\alexd\\anaconda3\\lib\\site-packages (from spacy->keras.models) (2.23.0)\n",
      "Requirement already satisfied: importlib-metadata>=0.20; python_version < \"3.8\" in c:\\users\\alexd\\anaconda3\\lib\\site-packages (from catalogue<1.1.0,>=0.0.7->spacy->keras.models) (1.5.0)\n",
      "Requirement already satisfied: chardet<4,>=3.0.2 in c:\\users\\alexd\\anaconda3\\lib\\site-packages (from requests<3.0.0,>=2.13.0->spacy->keras.models) (3.0.4)\n",
      "Requirement already satisfied: certifi>=2017.4.17 in c:\\users\\alexd\\anaconda3\\lib\\site-packages (from requests<3.0.0,>=2.13.0->spacy->keras.models) (2019.11.28)\n",
      "Requirement already satisfied: idna<3,>=2.5 in c:\\users\\alexd\\anaconda3\\lib\\site-packages (from requests<3.0.0,>=2.13.0->spacy->keras.models) (2.8)\n",
      "Requirement already satisfied: urllib3!=1.25.0,!=1.25.1,<1.26,>=1.21.1 in c:\\users\\alexd\\anaconda3\\lib\\site-packages (from requests<3.0.0,>=2.13.0->spacy->keras.models) (1.25.8)\n",
      "Requirement already satisfied: zipp>=0.5 in c:\\users\\alexd\\anaconda3\\lib\\site-packages (from importlib-metadata>=0.20; python_version < \"3.8\"->catalogue<1.1.0,>=0.0.7->spacy->keras.models) (2.2.0)\n",
      "Building wheels for collected packages: pathlib\n",
      "  Building wheel for pathlib (setup.py): started\n",
      "  Building wheel for pathlib (setup.py): finished with status 'done'\n",
      "  Created wheel for pathlib: filename=pathlib-1.0.1-py3-none-any.whl size=14353 sha256=eba58524d32fdbc2ed99754ae34d70a94750967cebd503d254cbb8c030417400\n",
      "  Stored in directory: c:\\users\\alexd\\appdata\\local\\pip\\cache\\wheels\\6e\\96\\b8\\10037fe231e23970bac58361d7c93571ab983a7bbc55e68550\n",
      "Successfully built pathlib\n",
      "Installing collected packages: keras-preprocessing, keras-applications, keras, blis, catalogue, srsly, murmurhash, cymem, wasabi, plac, preshed, thinc, spacy, pathlib, opencv-python, keras.models\n",
      "Successfully installed blis-0.4.1 catalogue-1.0.0 cymem-2.0.3 keras-2.3.1 keras-applications-1.0.8 keras-preprocessing-1.1.2 keras.models murmurhash-1.0.2 opencv-python-4.2.0.34 pathlib-1.0.1 plac-1.1.3 preshed-3.0.2 spacy-2.2.4 srsly-1.0.2 thinc-7.4.0 wasabi-0.6.0\n"
     ]
    }
   ],
   "source": [
    "! pip install keras.models"
   ]
  },
  {
   "cell_type": "code",
   "execution_count": 6,
   "metadata": {},
   "outputs": [
    {
     "name": "stdout",
     "output_type": "stream",
     "text": [
      "Collecting tensorflow\n",
      "  Downloading tensorflow-2.2.0-cp37-cp37m-win_amd64.whl (459.2 MB)\n",
      "Collecting astunparse==1.6.3\n",
      "  Downloading astunparse-1.6.3-py2.py3-none-any.whl (12 kB)\n",
      "Requirement already satisfied: scipy==1.4.1; python_version >= \"3\" in c:\\users\\alexd\\anaconda3\\lib\\site-packages (from tensorflow) (1.4.1)\n",
      "Requirement already satisfied: six>=1.12.0 in c:\\users\\alexd\\anaconda3\\lib\\site-packages (from tensorflow) (1.14.0)\n",
      "Requirement already satisfied: wheel>=0.26; python_version >= \"3\" in c:\\users\\alexd\\anaconda3\\lib\\site-packages (from tensorflow) (0.34.2)\n",
      "Requirement already satisfied: h5py<2.11.0,>=2.10.0 in c:\\users\\alexd\\anaconda3\\lib\\site-packages (from tensorflow) (2.10.0)\n",
      "Requirement already satisfied: keras-preprocessing>=1.1.0 in c:\\users\\alexd\\anaconda3\\lib\\site-packages (from tensorflow) (1.1.2)\n",
      "Collecting absl-py>=0.7.0\n",
      "  Downloading absl-py-0.9.0.tar.gz (104 kB)\n",
      "Collecting google-pasta>=0.1.8\n",
      "  Downloading google_pasta-0.2.0-py3-none-any.whl (57 kB)\n",
      "Requirement already satisfied: numpy<2.0,>=1.16.0 in c:\\users\\alexd\\anaconda3\\lib\\site-packages (from tensorflow) (1.18.1)\n",
      "Collecting termcolor>=1.1.0\n",
      "  Downloading termcolor-1.1.0.tar.gz (3.9 kB)\n",
      "Collecting grpcio>=1.8.6\n",
      "  Downloading grpcio-1.29.0-cp37-cp37m-win_amd64.whl (2.3 MB)\n",
      "Collecting protobuf>=3.8.0\n",
      "  Downloading protobuf-3.12.2-cp37-cp37m-win_amd64.whl (1.0 MB)\n",
      "Collecting opt-einsum>=2.3.2\n",
      "  Downloading opt_einsum-3.2.1-py3-none-any.whl (63 kB)\n",
      "Requirement already satisfied: wrapt>=1.11.1 in c:\\users\\alexd\\anaconda3\\lib\\site-packages (from tensorflow) (1.11.2)\n",
      "Collecting gast==0.3.3\n",
      "  Downloading gast-0.3.3-py2.py3-none-any.whl (9.7 kB)\n",
      "Collecting tensorflow-estimator<2.3.0,>=2.2.0\n",
      "  Downloading tensorflow_estimator-2.2.0-py2.py3-none-any.whl (454 kB)\n",
      "Collecting tensorboard<2.3.0,>=2.2.0\n",
      "  Downloading tensorboard-2.2.2-py3-none-any.whl (3.0 MB)\n",
      "Requirement already satisfied: setuptools in c:\\users\\alexd\\anaconda3\\lib\\site-packages (from protobuf>=3.8.0->tensorflow) (45.2.0.post20200210)\n",
      "Collecting google-auth<2,>=1.6.3\n",
      "  Downloading google_auth-1.16.1-py2.py3-none-any.whl (90 kB)\n",
      "Requirement already satisfied: requests<3,>=2.21.0 in c:\\users\\alexd\\anaconda3\\lib\\site-packages (from tensorboard<2.3.0,>=2.2.0->tensorflow) (2.23.0)\n",
      "Collecting markdown>=2.6.8\n",
      "  Downloading Markdown-3.2.2-py3-none-any.whl (88 kB)\n",
      "Collecting tensorboard-plugin-wit>=1.6.0\n",
      "  Downloading tensorboard_plugin_wit-1.6.0.post3-py3-none-any.whl (777 kB)\n",
      "Collecting google-auth-oauthlib<0.5,>=0.4.1\n",
      "  Downloading google_auth_oauthlib-0.4.1-py2.py3-none-any.whl (18 kB)\n",
      "Requirement already satisfied: werkzeug>=0.11.15 in c:\\users\\alexd\\anaconda3\\lib\\site-packages (from tensorboard<2.3.0,>=2.2.0->tensorflow) (1.0.0)\n",
      "Collecting cachetools<5.0,>=2.0.0\n",
      "  Downloading cachetools-4.1.0-py3-none-any.whl (10 kB)\n",
      "Collecting rsa<4.1,>=3.1.4\n",
      "  Downloading rsa-4.0-py2.py3-none-any.whl (38 kB)\n",
      "Collecting pyasn1-modules>=0.2.1\n",
      "  Downloading pyasn1_modules-0.2.8-py2.py3-none-any.whl (155 kB)\n",
      "Requirement already satisfied: certifi>=2017.4.17 in c:\\users\\alexd\\anaconda3\\lib\\site-packages (from requests<3,>=2.21.0->tensorboard<2.3.0,>=2.2.0->tensorflow) (2019.11.28)\n",
      "Requirement already satisfied: idna<3,>=2.5 in c:\\users\\alexd\\anaconda3\\lib\\site-packages (from requests<3,>=2.21.0->tensorboard<2.3.0,>=2.2.0->tensorflow) (2.8)\n",
      "Requirement already satisfied: chardet<4,>=3.0.2 in c:\\users\\alexd\\anaconda3\\lib\\site-packages (from requests<3,>=2.21.0->tensorboard<2.3.0,>=2.2.0->tensorflow) (3.0.4)\n",
      "Requirement already satisfied: urllib3!=1.25.0,!=1.25.1,<1.26,>=1.21.1 in c:\\users\\alexd\\anaconda3\\lib\\site-packages (from requests<3,>=2.21.0->tensorboard<2.3.0,>=2.2.0->tensorflow) (1.25.8)\n",
      "Requirement already satisfied: importlib-metadata; python_version < \"3.8\" in c:\\users\\alexd\\anaconda3\\lib\\site-packages (from markdown>=2.6.8->tensorboard<2.3.0,>=2.2.0->tensorflow) (1.5.0)\n",
      "Requirement already satisfied: requests-oauthlib>=0.7.0 in c:\\users\\alexd\\anaconda3\\lib\\site-packages (from google-auth-oauthlib<0.5,>=0.4.1->tensorboard<2.3.0,>=2.2.0->tensorflow) (1.3.0)\n",
      "Collecting pyasn1>=0.1.3\n",
      "  Downloading pyasn1-0.4.8-py2.py3-none-any.whl (77 kB)\n",
      "Requirement already satisfied: zipp>=0.5 in c:\\users\\alexd\\anaconda3\\lib\\site-packages (from importlib-metadata; python_version < \"3.8\"->markdown>=2.6.8->tensorboard<2.3.0,>=2.2.0->tensorflow) (2.2.0)\n",
      "Requirement already satisfied: oauthlib>=3.0.0 in c:\\users\\alexd\\anaconda3\\lib\\site-packages (from requests-oauthlib>=0.7.0->google-auth-oauthlib<0.5,>=0.4.1->tensorboard<2.3.0,>=2.2.0->tensorflow) (3.1.0)\n",
      "Building wheels for collected packages: absl-py, termcolor\n",
      "  Building wheel for absl-py (setup.py): started\n",
      "  Building wheel for absl-py (setup.py): finished with status 'done'\n",
      "  Created wheel for absl-py: filename=absl_py-0.9.0-py3-none-any.whl size=121935 sha256=75d5d666c34935c9d258a0e4ef85cff134e8ee5da0231919dcd7b43cb4f0d783\n",
      "  Stored in directory: c:\\users\\alexd\\appdata\\local\\pip\\cache\\wheels\\cc\\af\\1a\\498a24d0730ef484019e007bb9e8cef3ac00311a672c049a3e\n",
      "  Building wheel for termcolor (setup.py): started\n",
      "  Building wheel for termcolor (setup.py): finished with status 'done'\n",
      "  Created wheel for termcolor: filename=termcolor-1.1.0-py3-none-any.whl size=4835 sha256=41c1a321945195ed52e6262d84a1a8fd1b73561958cd059972db2aaa0fc92e9c\n",
      "  Stored in directory: c:\\users\\alexd\\appdata\\local\\pip\\cache\\wheels\\3f\\e3\\ec\\8a8336ff196023622fbcb36de0c5a5c218cbb24111d1d4c7f2\n",
      "Successfully built absl-py termcolor\n",
      "Installing collected packages: astunparse, absl-py, google-pasta, termcolor, grpcio, protobuf, opt-einsum, gast, tensorflow-estimator, cachetools, pyasn1, rsa, pyasn1-modules, google-auth, markdown, tensorboard-plugin-wit, google-auth-oauthlib, tensorboard, tensorflow\n",
      "Successfully installed absl-py-0.9.0 astunparse-1.6.3 cachetools-4.1.0 gast-0.3.3 google-auth-1.16.1 google-auth-oauthlib-0.4.1 google-pasta-0.2.0 grpcio-1.29.0 markdown-3.2.2 opt-einsum-3.2.1 protobuf-3.12.2 pyasn1-0.4.8 pyasn1-modules-0.2.8 rsa-4.0 tensorboard-2.2.2 tensorboard-plugin-wit-1.6.0.post3 tensorflow-2.2.0 tensorflow-estimator-2.2.0 termcolor-1.1.0\n"
     ]
    }
   ],
   "source": [
    "! pip install tensorflow"
   ]
  },
  {
   "cell_type": "code",
   "execution_count": 7,
   "metadata": {
    "colab": {
     "base_uri": "https://localhost:8080/",
     "height": 35
    },
    "colab_type": "code",
    "executionInfo": {
     "elapsed": 3044,
     "status": "ok",
     "timestamp": 1560987173275,
     "user": {
      "displayName": "Ibrahim Faisal",
      "photoUrl": "https://lh3.googleusercontent.com/-67DMczu7rgM/AAAAAAAAAAI/AAAAAAAAAAc/6f5FCnBgxFs/s64/photo.jpg",
      "userId": "02685917636347920688"
     },
     "user_tz": -600
    },
    "id": "hJgb9UC1y-QQ",
    "outputId": "952d9136-2b32-4474-eddb-d03f8d92d24e"
   },
   "outputs": [
    {
     "name": "stderr",
     "output_type": "stream",
     "text": [
      "Using TensorFlow backend.\n"
     ]
    }
   ],
   "source": [
    "## Import libraries\n",
    "import numpy as np\n",
    "\n",
    "%matplotlib inline\n",
    "import matplotlib.pyplot as plt\n",
    "\n",
    "from sklearn.datasets import load_digits\n",
    "from sklearn.metrics import confusion_matrix\n",
    "from sklearn.model_selection import train_test_split\n",
    "\n",
    "# import keras\n",
    "from keras.models import Sequential\n",
    "from keras.layers import Dense\n",
    "from keras.utils import to_categorical"
   ]
  },
  {
   "cell_type": "code",
   "execution_count": 8,
   "metadata": {
    "colab": {},
    "colab_type": "code",
    "id": "0tQuyTyyy-QZ"
   },
   "outputs": [],
   "source": [
    "# The digits dataset\n",
    "digits = load_digits()"
   ]
  },
  {
   "cell_type": "code",
   "execution_count": 9,
   "metadata": {
    "colab": {
     "base_uri": "https://localhost:8080/",
     "height": 835
    },
    "colab_type": "code",
    "executionInfo": {
     "elapsed": 691,
     "status": "ok",
     "timestamp": 1560987180801,
     "user": {
      "displayName": "Ibrahim Faisal",
      "photoUrl": "https://lh3.googleusercontent.com/-67DMczu7rgM/AAAAAAAAAAI/AAAAAAAAAAc/6f5FCnBgxFs/s64/photo.jpg",
      "userId": "02685917636347920688"
     },
     "user_tz": -600
    },
    "id": "Zn2DiwPXy-Qd",
    "outputId": "370cdb14-46ea-4c44-ec94-8f33396ea89f"
   },
   "outputs": [
    {
     "name": "stdout",
     "output_type": "stream",
     "text": [
      ".. _digits_dataset:\n",
      "\n",
      "Optical recognition of handwritten digits dataset\n",
      "--------------------------------------------------\n",
      "\n",
      "**Data Set Characteristics:**\n",
      "\n",
      "    :Number of Instances: 5620\n",
      "    :Number of Attributes: 64\n",
      "    :Attribute Information: 8x8 image of integer pixels in the range 0..16.\n",
      "    :Missing Attribute Values: None\n",
      "    :Creator: E. Alpaydin (alpaydin '@' boun.edu.tr)\n",
      "    :Date: July; 1998\n",
      "\n",
      "This is a copy of the test set of the UCI ML hand-written digits datasets\n",
      "https://archive.ics.uci.edu/ml/datasets/Optical+Recognition+of+Handwritten+Digits\n",
      "\n",
      "The data set contains images of hand-written digits: 10 classes where\n",
      "each class refers to a digit.\n",
      "\n",
      "Preprocessing programs made available by NIST were used to extract\n",
      "normalized bitmaps of handwritten digits from a preprinted form. From a\n",
      "total of 43 people, 30 contributed to the training set and different 13\n",
      "to the test set. 32x32 bitmaps are divided into nonoverlapping blocks of\n",
      "4x4 and the number of on pixels are counted in each block. This generates\n",
      "an input matrix of 8x8 where each element is an integer in the range\n",
      "0..16. This reduces dimensionality and gives invariance to small\n",
      "distortions.\n",
      "\n",
      "For info on NIST preprocessing routines, see M. D. Garris, J. L. Blue, G.\n",
      "T. Candela, D. L. Dimmick, J. Geist, P. J. Grother, S. A. Janet, and C.\n",
      "L. Wilson, NIST Form-Based Handprint Recognition System, NISTIR 5469,\n",
      "1994.\n",
      "\n",
      ".. topic:: References\n",
      "\n",
      "  - C. Kaynak (1995) Methods of Combining Multiple Classifiers and Their\n",
      "    Applications to Handwritten Digit Recognition, MSc Thesis, Institute of\n",
      "    Graduate Studies in Science and Engineering, Bogazici University.\n",
      "  - E. Alpaydin, C. Kaynak (1998) Cascading Classifiers, Kybernetika.\n",
      "  - Ken Tang and Ponnuthurai N. Suganthan and Xi Yao and A. Kai Qin.\n",
      "    Linear dimensionalityreduction using relevance weighted LDA. School of\n",
      "    Electrical and Electronic Engineering Nanyang Technological University.\n",
      "    2005.\n",
      "  - Claudio Gentile. A New Approximate Maximal Margin Classification\n",
      "    Algorithm. NIPS. 2000.\n"
     ]
    }
   ],
   "source": [
    "print(digits.DESCR)"
   ]
  },
  {
   "cell_type": "code",
   "execution_count": 10,
   "metadata": {
    "colab": {
     "base_uri": "https://localhost:8080/",
     "height": 147
    },
    "colab_type": "code",
    "executionInfo": {
     "elapsed": 670,
     "status": "ok",
     "timestamp": 1560987197507,
     "user": {
      "displayName": "Ibrahim Faisal",
      "photoUrl": "https://lh3.googleusercontent.com/-67DMczu7rgM/AAAAAAAAAAI/AAAAAAAAAAc/6f5FCnBgxFs/s64/photo.jpg",
      "userId": "02685917636347920688"
     },
     "user_tz": -600
    },
    "id": "oi5lOrDYy-Qh",
    "outputId": "2efb7206-c6e1-4070-d8f5-57b76ffeea7c"
   },
   "outputs": [
    {
     "data": {
      "image/png": "[encoded data removed]",
      "text/plain": [
       "<Figure size 144x144 with 1 Axes>"
      ]
     },
     "metadata": {},
     "output_type": "display_data"
    }
   ],
   "source": [
    "id = np.random.randint(len(digits.target))\n",
    "plt.figure(figsize = (2, 2))\n",
    "plt.imshow(digits.images[id], cmap = 'gray')\n",
    "plt.xticks([])\n",
    "plt.yticks([])\n",
    "plt.show()"
   ]
  },
  {
   "cell_type": "code",
   "execution_count": 11,
   "metadata": {
    "colab": {},
    "colab_type": "code",
    "id": "k-Wu4bQJy-Ql"
   },
   "outputs": [],
   "source": [
    "# Prepare input data\n",
    "# input\n",
    "X = digits.data.astype(np.uint8)\n",
    "n_cols = X.shape[1]\n",
    "\n",
    "# output\n",
    "target = digits.target.astype(np.uint8)\n",
    "\n",
    "# Convert the target to categorical\n",
    "y = to_categorical(\n",
    "    target,\n",
    "    num_classes = len(set(target)),\n",
    "    dtype = 'uint8')"
   ]
  },
  {
   "cell_type": "code",
   "execution_count": 27,
   "metadata": {},
   "outputs": [
    {
     "data": {
      "text/plain": [
       "array([[ 0.,  0.,  0., 12., 13.,  5.,  0.,  0.],\n",
       "       [ 0.,  0.,  0., 11., 16.,  9.,  0.,  0.],\n",
       "       [ 0.,  0.,  3., 15., 16.,  6.,  0.,  0.],\n",
       "       [ 0.,  7., 15., 16., 16.,  2.,  0.,  0.],\n",
       "       [ 0.,  0.,  1., 16., 16.,  3.,  0.,  0.],\n",
       "       [ 0.,  0.,  1., 16., 16.,  6.,  0.,  0.],\n",
       "       [ 0.,  0.,  1., 16., 16.,  6.,  0.,  0.],\n",
       "       [ 0.,  0.,  0., 11., 16., 10.,  0.,  0.]])"
      ]
     },
     "execution_count": 27,
     "metadata": {},
     "output_type": "execute_result"
    }
   ],
   "source": [
    "digits.images[1] # Extra"
   ]
  },
  {
   "cell_type": "code",
   "execution_count": 28,
   "metadata": {},
   "outputs": [
    {
     "data": {
      "text/plain": [
       "array([[ 0.,  0.,  5., ...,  0.,  0.,  0.],\n",
       "       [ 0.,  0.,  0., ..., 10.,  0.,  0.],\n",
       "       [ 0.,  0.,  0., ..., 16.,  9.,  0.],\n",
       "       ...,\n",
       "       [ 0.,  0.,  1., ...,  6.,  0.,  0.],\n",
       "       [ 0.,  0.,  2., ..., 12.,  0.,  0.],\n",
       "       [ 0.,  0., 10., ..., 12.,  1.,  0.]])"
      ]
     },
     "execution_count": 28,
     "metadata": {},
     "output_type": "execute_result"
    }
   ],
   "source": [
    "digits.data # Extra"
   ]
  },
  {
   "cell_type": "code",
   "execution_count": 12,
   "metadata": {
    "colab": {},
    "colab_type": "code",
    "id": "nBFFtaWcy-Qo"
   },
   "outputs": [],
   "source": [
    "X_train, X_test, y_train, y_test = train_test_split(\n",
    "    X, y, \n",
    "    test_size = 0.3,\n",
    "    random_state = 65)"
   ]
  },
  {
   "cell_type": "code",
   "execution_count": 13,
   "metadata": {
    "colab": {
     "base_uri": "https://localhost:8080/",
     "height": 90
    },
    "colab_type": "code",
    "executionInfo": {
     "elapsed": 679,
     "status": "ok",
     "timestamp": 1560987210021,
     "user": {
      "displayName": "Ibrahim Faisal",
      "photoUrl": "https://lh3.googleusercontent.com/-67DMczu7rgM/AAAAAAAAAAI/AAAAAAAAAAc/6f5FCnBgxFs/s64/photo.jpg",
      "userId": "02685917636347920688"
     },
     "user_tz": -600
    },
    "id": "aKrm9Miqy-Qq",
    "outputId": "720fbca9-f091-452a-bb7e-abd26f2580be"
   },
   "outputs": [],
   "source": [
    "# Set up the model architecture\n",
    "model = Sequential()"
   ]
  },
  {
   "cell_type": "code",
   "execution_count": 14,
   "metadata": {
    "colab": {
     "base_uri": "https://localhost:8080/",
     "height": 108
    },
    "colab_type": "code",
    "executionInfo": {
     "elapsed": 699,
     "status": "ok",
     "timestamp": 1560987241021,
     "user": {
      "displayName": "Ibrahim Faisal",
      "photoUrl": "https://lh3.googleusercontent.com/-67DMczu7rgM/AAAAAAAAAAI/AAAAAAAAAAc/6f5FCnBgxFs/s64/photo.jpg",
      "userId": "02685917636347920688"
     },
     "user_tz": -600
    },
    "id": "KC9AVmkFy-Qr",
    "outputId": "4c3e6fa2-387a-4a7d-b0bd-92ec07972f79"
   },
   "outputs": [],
   "source": [
    "# Add the first hidden layer\n",
    "model.add(Dense(100, activation = 'relu', input_shape = (n_cols, )))\n",
    "# Add the second hidden layer\n",
    "model.add(Dense(50, activation = 'relu'))\n",
    "\n",
    "# Add the output layer\n",
    "model.add(Dense(10, activation = 'softmax'))"
   ]
  },
  {
   "cell_type": "code",
   "execution_count": 15,
   "metadata": {
    "colab": {
     "base_uri": "https://localhost:8080/",
     "height": 266
    },
    "colab_type": "code",
    "executionInfo": {
     "elapsed": 658,
     "status": "ok",
     "timestamp": 1560987244812,
     "user": {
      "displayName": "Ibrahim Faisal",
      "photoUrl": "https://lh3.googleusercontent.com/-67DMczu7rgM/AAAAAAAAAAI/AAAAAAAAAAc/6f5FCnBgxFs/s64/photo.jpg",
      "userId": "02685917636347920688"
     },
     "user_tz": -600
    },
    "id": "05KgUEX8y-Qt",
    "outputId": "0eb90200-af4b-4085-d352-e7ee471fc221"
   },
   "outputs": [
    {
     "name": "stdout",
     "output_type": "stream",
     "text": [
      "Model: \"sequential_1\"\n",
      "_________________________________________________________________\n",
      "Layer (type)                 Output Shape              Param #   \n",
      "=================================================================\n",
      "dense_1 (Dense)              (None, 100)               6500      \n",
      "_________________________________________________________________\n",
      "dense_2 (Dense)              (None, 50)                5050      \n",
      "_________________________________________________________________\n",
      "dense_3 (Dense)              (None, 10)                510       \n",
      "=================================================================\n",
      "Total params: 12,060\n",
      "Trainable params: 12,060\n",
      "Non-trainable params: 0\n",
      "_________________________________________________________________\n",
      "None\n"
     ]
    }
   ],
   "source": [
    "print(model.summary())"
   ]
  },
  {
   "cell_type": "code",
   "execution_count": 16,
   "metadata": {
    "colab": {
     "base_uri": "https://localhost:8080/",
     "height": 108
    },
    "colab_type": "code",
    "executionInfo": {
     "elapsed": 766,
     "status": "ok",
     "timestamp": 1560987254525,
     "user": {
      "displayName": "Ibrahim Faisal",
      "photoUrl": "https://lh3.googleusercontent.com/-67DMczu7rgM/AAAAAAAAAAI/AAAAAAAAAAc/6f5FCnBgxFs/s64/photo.jpg",
      "userId": "02685917636347920688"
     },
     "user_tz": -600
    },
    "id": "4eu9O-5Xy-Qv",
    "outputId": "21a852aa-cf60-4cb5-f98f-09a33cdfff7c"
   },
   "outputs": [],
   "source": [
    "# Compile the model\n",
    "model.compile(\n",
    "    optimizer = 'sgd',\n",
    "    loss = 'categorical_crossentropy',\n",
    "    metrics = ['accuracy'])"
   ]
  },
  {
   "cell_type": "code",
   "execution_count": 31,
   "metadata": {
    "colab": {
     "base_uri": "https://localhost:8080/",
     "height": 161
    },
    "colab_type": "code",
    "executionInfo": {
     "elapsed": 7084,
     "status": "ok",
     "timestamp": 1560987266117,
     "user": {
      "displayName": "Ibrahim Faisal",
      "photoUrl": "https://lh3.googleusercontent.com/-67DMczu7rgM/AAAAAAAAAAI/AAAAAAAAAAc/6f5FCnBgxFs/s64/photo.jpg",
      "userId": "02685917636347920688"
     },
     "user_tz": -600
    },
    "id": "DSnIhJ0My-Qw",
    "outputId": "d2e88f70-4060-4fae-cb23-2c3753b99cbc"
   },
   "outputs": [
    {
     "name": "stdout",
     "output_type": "stream",
     "text": [
      "Train on 942 samples, validate on 315 samples\n",
      "Epoch 1/100\n",
      "942/942 [==============================] - 0s 79us/step - loss: 0.0022 - accuracy: 1.0000 - val_loss: 0.1458 - val_accuracy: 0.9683\n",
      "Epoch 2/100\n",
      "942/942 [==============================] - 0s 64us/step - loss: 0.0021 - accuracy: 1.0000 - val_loss: 0.1469 - val_accuracy: 0.9683\n",
      "Epoch 3/100\n",
      "942/942 [==============================] - 0s 67us/step - loss: 0.0021 - accuracy: 1.0000 - val_loss: 0.1479 - val_accuracy: 0.9683\n",
      "Epoch 4/100\n",
      "942/942 [==============================] - 0s 54us/step - loss: 0.0021 - accuracy: 1.0000 - val_loss: 0.1472 - val_accuracy: 0.9683\n",
      "Epoch 5/100\n",
      "942/942 [==============================] - 0s 82us/step - loss: 0.0021 - accuracy: 1.0000 - val_loss: 0.1516 - val_accuracy: 0.9683\n",
      "Epoch 6/100\n",
      "942/942 [==============================] - 0s 65us/step - loss: 0.0021 - accuracy: 1.0000 - val_loss: 0.1486 - val_accuracy: 0.9683\n",
      "Epoch 7/100\n",
      "942/942 [==============================] - 0s 54us/step - loss: 0.0021 - accuracy: 1.0000 - val_loss: 0.1475 - val_accuracy: 0.9683\n",
      "Epoch 8/100\n",
      "942/942 [==============================] - 0s 51us/step - loss: 0.0020 - accuracy: 1.0000 - val_loss: 0.1461 - val_accuracy: 0.9683\n",
      "Epoch 9/100\n",
      "942/942 [==============================] - 0s 51us/step - loss: 0.0020 - accuracy: 1.0000 - val_loss: 0.1481 - val_accuracy: 0.9683\n",
      "Epoch 10/100\n",
      "942/942 [==============================] - 0s 53us/step - loss: 0.0020 - accuracy: 1.0000 - val_loss: 0.1461 - val_accuracy: 0.9683\n",
      "Epoch 11/100\n",
      "942/942 [==============================] - 0s 48us/step - loss: 0.0020 - accuracy: 1.0000 - val_loss: 0.1494 - val_accuracy: 0.9683\n",
      "Epoch 12/100\n",
      "942/942 [==============================] - 0s 51us/step - loss: 0.0019 - accuracy: 1.0000 - val_loss: 0.1477 - val_accuracy: 0.9683\n",
      "Epoch 13/100\n",
      "942/942 [==============================] - 0s 54us/step - loss: 0.0019 - accuracy: 1.0000 - val_loss: 0.1446 - val_accuracy: 0.9651\n",
      "Epoch 14/100\n",
      "942/942 [==============================] - 0s 53us/step - loss: 0.0020 - accuracy: 1.0000 - val_loss: 0.1465 - val_accuracy: 0.9683\n",
      "Epoch 15/100\n",
      "942/942 [==============================] - 0s 48us/step - loss: 0.0019 - accuracy: 1.0000 - val_loss: 0.1473 - val_accuracy: 0.9683\n",
      "Epoch 16/100\n",
      "942/942 [==============================] - 0s 53us/step - loss: 0.0018 - accuracy: 1.0000 - val_loss: 0.1456 - val_accuracy: 0.9683\n",
      "Epoch 17/100\n",
      "942/942 [==============================] - 0s 53us/step - loss: 0.0018 - accuracy: 1.0000 - val_loss: 0.1561 - val_accuracy: 0.9651\n",
      "Epoch 18/100\n",
      "942/942 [==============================] - 0s 48us/step - loss: 0.0019 - accuracy: 1.0000 - val_loss: 0.1476 - val_accuracy: 0.9683\n",
      "Epoch 19/100\n",
      "942/942 [==============================] - 0s 47us/step - loss: 0.0018 - accuracy: 1.0000 - val_loss: 0.1483 - val_accuracy: 0.9683\n",
      "Epoch 20/100\n",
      "942/942 [==============================] - 0s 48us/step - loss: 0.0018 - accuracy: 1.0000 - val_loss: 0.1472 - val_accuracy: 0.9683\n",
      "Epoch 21/100\n",
      "942/942 [==============================] - 0s 44us/step - loss: 0.0017 - accuracy: 1.0000 - val_loss: 0.1481 - val_accuracy: 0.9683\n",
      "Epoch 22/100\n",
      "942/942 [==============================] - 0s 54us/step - loss: 0.0017 - accuracy: 1.0000 - val_loss: 0.1486 - val_accuracy: 0.9683\n",
      "Epoch 23/100\n",
      "942/942 [==============================] - 0s 55us/step - loss: 0.0017 - accuracy: 1.0000 - val_loss: 0.1481 - val_accuracy: 0.9683\n",
      "Epoch 24/100\n",
      "942/942 [==============================] - 0s 62us/step - loss: 0.0017 - accuracy: 1.0000 - val_loss: 0.1471 - val_accuracy: 0.9683\n",
      "Epoch 25/100\n",
      "942/942 [==============================] - 0s 67us/step - loss: 0.0017 - accuracy: 1.0000 - val_loss: 0.1484 - val_accuracy: 0.9683\n",
      "Epoch 26/100\n",
      "942/942 [==============================] - 0s 95us/step - loss: 0.0017 - accuracy: 1.0000 - val_loss: 0.1477 - val_accuracy: 0.9683\n",
      "Epoch 27/100\n",
      "942/942 [==============================] - 0s 61us/step - loss: 0.0017 - accuracy: 1.0000 - val_loss: 0.1474 - val_accuracy: 0.9683\n",
      "Epoch 28/100\n",
      "942/942 [==============================] - 0s 56us/step - loss: 0.0016 - accuracy: 1.0000 - val_loss: 0.1478 - val_accuracy: 0.9683\n",
      "Epoch 29/100\n",
      "942/942 [==============================] - 0s 67us/step - loss: 0.0016 - accuracy: 1.0000 - val_loss: 0.1471 - val_accuracy: 0.9683\n",
      "Epoch 30/100\n",
      "942/942 [==============================] - 0s 59us/step - loss: 0.0016 - accuracy: 1.0000 - val_loss: 0.1472 - val_accuracy: 0.9683\n",
      "Epoch 31/100\n",
      "942/942 [==============================] - 0s 49us/step - loss: 0.0016 - accuracy: 1.0000 - val_loss: 0.1536 - val_accuracy: 0.9714\n",
      "Epoch 32/100\n",
      "942/942 [==============================] - 0s 47us/step - loss: 0.0016 - accuracy: 1.0000 - val_loss: 0.1493 - val_accuracy: 0.9683\n",
      "Epoch 33/100\n",
      "942/942 [==============================] - 0s 48us/step - loss: 0.0016 - accuracy: 1.0000 - val_loss: 0.1486 - val_accuracy: 0.9683\n",
      "Epoch 34/100\n",
      "942/942 [==============================] - 0s 44us/step - loss: 0.0016 - accuracy: 1.0000 - val_loss: 0.1463 - val_accuracy: 0.9683\n",
      "Epoch 35/100\n",
      "942/942 [==============================] - 0s 46us/step - loss: 0.0016 - accuracy: 1.0000 - val_loss: 0.1482 - val_accuracy: 0.9683\n",
      "Epoch 36/100\n",
      "942/942 [==============================] - 0s 47us/step - loss: 0.0015 - accuracy: 1.0000 - val_loss: 0.1488 - val_accuracy: 0.9683\n",
      "Epoch 37/100\n",
      "942/942 [==============================] - 0s 53us/step - loss: 0.0015 - accuracy: 1.0000 - val_loss: 0.1483 - val_accuracy: 0.9683\n",
      "Epoch 38/100\n",
      "942/942 [==============================] - 0s 51us/step - loss: 0.0015 - accuracy: 1.0000 - val_loss: 0.1478 - val_accuracy: 0.9683\n",
      "Epoch 39/100\n",
      "942/942 [==============================] - 0s 48us/step - loss: 0.0015 - accuracy: 1.0000 - val_loss: 0.1489 - val_accuracy: 0.9714\n",
      "Epoch 40/100\n",
      "942/942 [==============================] - 0s 43us/step - loss: 0.0015 - accuracy: 1.0000 - val_loss: 0.1481 - val_accuracy: 0.9683\n",
      "Epoch 41/100\n",
      "942/942 [==============================] - 0s 49us/step - loss: 0.0015 - accuracy: 1.0000 - val_loss: 0.1500 - val_accuracy: 0.9714\n",
      "Epoch 42/100\n",
      "942/942 [==============================] - 0s 49us/step - loss: 0.0015 - accuracy: 1.0000 - val_loss: 0.1487 - val_accuracy: 0.9683\n",
      "Epoch 43/100\n",
      "942/942 [==============================] - 0s 47us/step - loss: 0.0014 - accuracy: 1.0000 - val_loss: 0.1499 - val_accuracy: 0.9683\n",
      "Epoch 44/100\n",
      "942/942 [==============================] - 0s 47us/step - loss: 0.0014 - accuracy: 1.0000 - val_loss: 0.1477 - val_accuracy: 0.9683\n",
      "Epoch 45/100\n",
      "942/942 [==============================] - 0s 49us/step - loss: 0.0014 - accuracy: 1.0000 - val_loss: 0.1492 - val_accuracy: 0.9683\n",
      "Epoch 46/100\n",
      "942/942 [==============================] - 0s 44us/step - loss: 0.0014 - accuracy: 1.0000 - val_loss: 0.1497 - val_accuracy: 0.9683\n",
      "Epoch 47/100\n",
      "942/942 [==============================] - 0s 62us/step - loss: 0.0014 - accuracy: 1.0000 - val_loss: 0.1485 - val_accuracy: 0.9683\n",
      "Epoch 48/100\n",
      "942/942 [==============================] - 0s 94us/step - loss: 0.0014 - accuracy: 1.0000 - val_loss: 0.1494 - val_accuracy: 0.9714\n",
      "Epoch 49/100\n",
      "942/942 [==============================] - 0s 84us/step - loss: 0.0014 - accuracy: 1.0000 - val_loss: 0.1493 - val_accuracy: 0.9714\n",
      "Epoch 50/100\n",
      "942/942 [==============================] - 0s 68us/step - loss: 0.0014 - accuracy: 1.0000 - val_loss: 0.1491 - val_accuracy: 0.9714\n",
      "Epoch 51/100\n",
      "942/942 [==============================] - 0s 64us/step - loss: 0.0013 - accuracy: 1.0000 - val_loss: 0.1485 - val_accuracy: 0.9683\n",
      "Epoch 52/100\n",
      "942/942 [==============================] - 0s 51us/step - loss: 0.0013 - accuracy: 1.0000 - val_loss: 0.1498 - val_accuracy: 0.9714\n",
      "Epoch 53/100\n",
      "942/942 [==============================] - 0s 47us/step - loss: 0.0013 - accuracy: 1.0000 - val_loss: 0.1486 - val_accuracy: 0.9683\n",
      "Epoch 54/100\n",
      "942/942 [==============================] - 0s 49us/step - loss: 0.0013 - accuracy: 1.0000 - val_loss: 0.1479 - val_accuracy: 0.9683\n",
      "Epoch 55/100\n",
      "942/942 [==============================] - 0s 44us/step - loss: 0.0013 - accuracy: 1.0000 - val_loss: 0.1484 - val_accuracy: 0.9714\n",
      "Epoch 56/100\n",
      "942/942 [==============================] - 0s 44us/step - loss: 0.0013 - accuracy: 1.0000 - val_loss: 0.1504 - val_accuracy: 0.9714\n",
      "Epoch 57/100\n",
      "942/942 [==============================] - 0s 46us/step - loss: 0.0013 - accuracy: 1.0000 - val_loss: 0.1492 - val_accuracy: 0.9683\n",
      "Epoch 58/100\n",
      "942/942 [==============================] - 0s 44us/step - loss: 0.0013 - accuracy: 1.0000 - val_loss: 0.1487 - val_accuracy: 0.9683\n",
      "Epoch 59/100\n",
      "942/942 [==============================] - 0s 48us/step - loss: 0.0013 - accuracy: 1.0000 - val_loss: 0.1480 - val_accuracy: 0.9683\n",
      "Epoch 60/100\n",
      "942/942 [==============================] - 0s 65us/step - loss: 0.0013 - accuracy: 1.0000 - val_loss: 0.1487 - val_accuracy: 0.9683\n",
      "Epoch 61/100\n",
      "942/942 [==============================] - 0s 62us/step - loss: 0.0012 - accuracy: 1.0000 - val_loss: 0.1461 - val_accuracy: 0.9714\n",
      "Epoch 62/100\n",
      "942/942 [==============================] - 0s 59us/step - loss: 0.0013 - accuracy: 1.0000 - val_loss: 0.1484 - val_accuracy: 0.9683\n",
      "Epoch 63/100\n",
      "942/942 [==============================] - 0s 55us/step - loss: 0.0012 - accuracy: 1.0000 - val_loss: 0.1491 - val_accuracy: 0.9683\n",
      "Epoch 64/100\n",
      "942/942 [==============================] - 0s 44us/step - loss: 0.0012 - accuracy: 1.0000 - val_loss: 0.1492 - val_accuracy: 0.9714\n",
      "Epoch 65/100\n",
      "942/942 [==============================] - 0s 43us/step - loss: 0.0012 - accuracy: 1.0000 - val_loss: 0.1489 - val_accuracy: 0.9714\n",
      "Epoch 66/100\n",
      "942/942 [==============================] - 0s 47us/step - loss: 0.0012 - accuracy: 1.0000 - val_loss: 0.1496 - val_accuracy: 0.9683\n",
      "Epoch 67/100\n",
      "942/942 [==============================] - 0s 47us/step - loss: 0.0012 - accuracy: 1.0000 - val_loss: 0.1496 - val_accuracy: 0.9683\n",
      "Epoch 68/100\n",
      "942/942 [==============================] - 0s 55us/step - loss: 0.0012 - accuracy: 1.0000 - val_loss: 0.1501 - val_accuracy: 0.9714\n",
      "Epoch 69/100\n",
      "942/942 [==============================] - 0s 64us/step - loss: 0.0012 - accuracy: 1.0000 - val_loss: 0.1495 - val_accuracy: 0.9714\n",
      "Epoch 70/100\n",
      "942/942 [==============================] - 0s 60us/step - loss: 0.0012 - accuracy: 1.0000 - val_loss: 0.1486 - val_accuracy: 0.9683\n",
      "Epoch 71/100\n",
      "942/942 [==============================] - 0s 58us/step - loss: 0.0012 - accuracy: 1.0000 - val_loss: 0.1487 - val_accuracy: 0.9683\n",
      "Epoch 72/100\n",
      "942/942 [==============================] - 0s 62us/step - loss: 0.0012 - accuracy: 1.0000 - val_loss: 0.1498 - val_accuracy: 0.9714\n",
      "Epoch 73/100\n",
      "942/942 [==============================] - 0s 58us/step - loss: 0.0011 - accuracy: 1.0000 - val_loss: 0.1499 - val_accuracy: 0.9683\n",
      "Epoch 74/100\n",
      "942/942 [==============================] - 0s 42us/step - loss: 0.0011 - accuracy: 1.0000 - val_loss: 0.1494 - val_accuracy: 0.9714\n",
      "Epoch 75/100\n",
      "942/942 [==============================] - 0s 44us/step - loss: 0.0011 - accuracy: 1.0000 - val_loss: 0.1501 - val_accuracy: 0.9714\n",
      "Epoch 76/100\n",
      "942/942 [==============================] - 0s 43us/step - loss: 0.0011 - accuracy: 1.0000 - val_loss: 0.1498 - val_accuracy: 0.9714\n",
      "Epoch 77/100\n",
      "942/942 [==============================] - 0s 42us/step - loss: 0.0011 - accuracy: 1.0000 - val_loss: 0.1495 - val_accuracy: 0.9714\n",
      "Epoch 78/100\n",
      "942/942 [==============================] - 0s 44us/step - loss: 0.0011 - accuracy: 1.0000 - val_loss: 0.1623 - val_accuracy: 0.9683\n",
      "Epoch 79/100\n",
      "942/942 [==============================] - 0s 50us/step - loss: 0.0013 - accuracy: 1.0000 - val_loss: 0.1507 - val_accuracy: 0.9651\n",
      "Epoch 80/100\n",
      "942/942 [==============================] - 0s 42us/step - loss: 0.0011 - accuracy: 1.0000 - val_loss: 0.1497 - val_accuracy: 0.9683\n",
      "Epoch 81/100\n",
      "942/942 [==============================] - 0s 49us/step - loss: 0.0011 - accuracy: 1.0000 - val_loss: 0.1491 - val_accuracy: 0.9683\n",
      "Epoch 82/100\n",
      "942/942 [==============================] - 0s 47us/step - loss: 0.0011 - accuracy: 1.0000 - val_loss: 0.1491 - val_accuracy: 0.9683\n",
      "Epoch 83/100\n",
      "942/942 [==============================] - 0s 44us/step - loss: 0.0011 - accuracy: 1.0000 - val_loss: 0.1503 - val_accuracy: 0.9714\n",
      "Epoch 84/100\n",
      "942/942 [==============================] - 0s 46us/step - loss: 0.0011 - accuracy: 1.0000 - val_loss: 0.1500 - val_accuracy: 0.9714\n",
      "Epoch 85/100\n",
      "942/942 [==============================] - 0s 46us/step - loss: 0.0011 - accuracy: 1.0000 - val_loss: 0.1504 - val_accuracy: 0.9714\n",
      "Epoch 86/100\n",
      "942/942 [==============================] - 0s 42us/step - loss: 0.0011 - accuracy: 1.0000 - val_loss: 0.1500 - val_accuracy: 0.9683\n",
      "Epoch 87/100\n",
      "942/942 [==============================] - 0s 42us/step - loss: 0.0010 - accuracy: 1.0000 - val_loss: 0.1491 - val_accuracy: 0.9683\n",
      "Epoch 88/100\n",
      "942/942 [==============================] - 0s 43us/step - loss: 0.0010 - accuracy: 1.0000 - val_loss: 0.1495 - val_accuracy: 0.9683\n",
      "Epoch 89/100\n",
      "942/942 [==============================] - 0s 44us/step - loss: 0.0010 - accuracy: 1.0000 - val_loss: 0.1505 - val_accuracy: 0.9683\n",
      "Epoch 90/100\n",
      "942/942 [==============================] - 0s 48us/step - loss: 0.0010 - accuracy: 1.0000 - val_loss: 0.1505 - val_accuracy: 0.9683\n",
      "Epoch 91/100\n",
      "942/942 [==============================] - 0s 54us/step - loss: 0.0010 - accuracy: 1.0000 - val_loss: 0.1505 - val_accuracy: 0.9683\n",
      "Epoch 92/100\n",
      "942/942 [==============================] - 0s 55us/step - loss: 0.0010 - accuracy: 1.0000 - val_loss: 0.1504 - val_accuracy: 0.9714\n",
      "Epoch 93/100\n",
      "942/942 [==============================] - 0s 51us/step - loss: 0.0010 - accuracy: 1.0000 - val_loss: 0.1511 - val_accuracy: 0.9714\n",
      "Epoch 94/100\n",
      "942/942 [==============================] - 0s 47us/step - loss: 0.0010 - accuracy: 1.0000 - val_loss: 0.1491 - val_accuracy: 0.9746\n",
      "Epoch 95/100\n",
      "942/942 [==============================] - 0s 56us/step - loss: 0.0010 - accuracy: 1.0000 - val_loss: 0.1499 - val_accuracy: 0.9714\n",
      "Epoch 96/100\n",
      "942/942 [==============================] - 0s 53us/step - loss: 9.9092e-04 - accuracy: 1.0000 - val_loss: 0.1498 - val_accuracy: 0.9683\n",
      "Epoch 97/100\n",
      "942/942 [==============================] - 0s 53us/step - loss: 9.8356e-04 - accuracy: 1.0000 - val_loss: 0.1494 - val_accuracy: 0.9683\n",
      "Epoch 98/100\n",
      "942/942 [==============================] - 0s 44us/step - loss: 9.8480e-04 - accuracy: 1.0000 - val_loss: 0.1503 - val_accuracy: 0.9683\n",
      "Epoch 99/100\n",
      "942/942 [==============================] - 0s 42us/step - loss: 9.7549e-04 - accuracy: 1.0000 - val_loss: 0.1507 - val_accuracy: 0.9714\n",
      "Epoch 100/100\n",
      "942/942 [==============================] - 0s 41us/step - loss: 9.6756e-04 - accuracy: 1.0000 - val_loss: 0.1505 - val_accuracy: 0.9683\n",
      "Wall time: 5.17 s\n"
     ]
    }
   ],
   "source": [
    "%%time\n",
    "# Fit the model\n",
    "history = model.fit(\n",
    "    X_train,\n",
    "    y_train,\n",
    "    validation_split = 0.25,\n",
    "    batch_size = 20,\n",
    "    epochs = 100,\n",
    "    verbose = 1)"
   ]
  },
  {
   "cell_type": "code",
   "execution_count": 18,
   "metadata": {
    "colab": {},
    "colab_type": "code",
    "id": "CQsFQY0fy-Qy"
   },
   "outputs": [],
   "source": [
    "predictions = model.predict_classes(X_test)"
   ]
  },
  {
   "cell_type": "code",
   "execution_count": 19,
   "metadata": {
    "colab": {
     "base_uri": "https://localhost:8080/",
     "height": 70
    },
    "colab_type": "code",
    "executionInfo": {
     "elapsed": 703,
     "status": "ok",
     "timestamp": 1560987274181,
     "user": {
      "displayName": "Ibrahim Faisal",
      "photoUrl": "https://lh3.googleusercontent.com/-67DMczu7rgM/AAAAAAAAAAI/AAAAAAAAAAc/6f5FCnBgxFs/s64/photo.jpg",
      "userId": "02685917636347920688"
     },
     "user_tz": -600
    },
    "id": "7XbWCdmmy-Q0",
    "outputId": "7f4bf47c-2c4b-4aac-c2d4-a833b168a859",
    "scrolled": true
   },
   "outputs": [
    {
     "name": "stdout",
     "output_type": "stream",
     "text": [
      "540/540 [==============================] - 0s 11us/step\n",
      "\n",
      "Test loss: 0.085386, Test accuracy: 0.970370\n"
     ]
    }
   ],
   "source": [
    "score = model.evaluate(X_test, y_test, batch_size = 315)\n",
    "print('\\nTest loss: %.6f, Test accuracy: %.6f' % tuple(score))"
   ]
  },
  {
   "cell_type": "code",
   "execution_count": 20,
   "metadata": {
    "colab": {},
    "colab_type": "code",
    "id": "YAEoxWaNy-Q2"
   },
   "outputs": [],
   "source": [
    "def print_cm(cm):\n",
    "    c = '%%%dd ' % len('%d' % cm.max())\n",
    "    s = ' | '\n",
    "    s += ''.join([c % i for i in range(len(cm[0]))])\n",
    "    print(s)\n",
    "    print('-' * len(s))\n",
    "    for i, r in enumerate(cm):\n",
    "        s = '%d| ' % i\n",
    "        s += c * len(r)\n",
    "        print(s % tuple(r))"
   ]
  },
  {
   "cell_type": "code",
   "execution_count": 21,
   "metadata": {
    "colab": {
     "base_uri": "https://localhost:8080/",
     "height": 230
    },
    "colab_type": "code",
    "executionInfo": {
     "elapsed": 677,
     "status": "ok",
     "timestamp": 1560987282219,
     "user": {
      "displayName": "Ibrahim Faisal",
      "photoUrl": "https://lh3.googleusercontent.com/-67DMczu7rgM/AAAAAAAAAAI/AAAAAAAAAAc/6f5FCnBgxFs/s64/photo.jpg",
      "userId": "02685917636347920688"
     },
     "user_tz": -600
    },
    "id": "5a00OEH5y-Q4",
    "outputId": "3344a8e1-bb45-4799-9e98-2fef7e4b907f",
    "scrolled": true
   },
   "outputs": [
    {
     "name": "stdout",
     "output_type": "stream",
     "text": [
      " |  0  1  2  3  4  5  6  7  8  9 \n",
      "---------------------------------\n",
      "0| 54  0  0  0  1  0  0  0  0  0 \n",
      "1|  0 53  1  0  0  0  0  0  1  0 \n",
      "2|  0  0 49  0  0  0  0  0  0  0 \n",
      "3|  0  0  0 51  0  1  0  0  0  0 \n",
      "4|  0  0  0  0 54  0  1  0  0  0 \n",
      "5|  0  1  0  0  0 59  0  0  0  0 \n",
      "6|  0  0  0  0  0  1 60  0  0  0 \n",
      "7|  0  0  0  0  0  0  0 51  0  1 \n",
      "8|  0  2  0  0  0  1  1  0 44  1 \n",
      "9|  0  1  0  0  0  1  0  0  1 49 \n"
     ]
    }
   ],
   "source": [
    "y_test_target = np.array([x.argmax() for x in y_test])\n",
    "cm = confusion_matrix(y_test_target, predictions)\n",
    "print_cm(cm)"
   ]
  },
  {
   "cell_type": "code",
   "execution_count": 32,
   "metadata": {},
   "outputs": [
    {
     "data": {
      "text/plain": [
       "{'val_loss': [0.14580712322559622,\n",
       "  0.14690639687672494,\n",
       "  0.14792456199961995,\n",
       "  0.1472287303398526,\n",
       "  0.15155525892854682,\n",
       "  0.1485743167263175,\n",
       "  0.14745229810831093,\n",
       "  0.14609179116549,\n",
       "  0.1481459229179318,\n",
       "  0.14607028201931999,\n",
       "  0.14936416859309826,\n",
       "  0.14765259286477453,\n",
       "  0.14455256126229726,\n",
       "  0.14648376828029988,\n",
       "  0.14728686594892115,\n",
       "  0.14564932977396344,\n",
       "  0.1560898550919124,\n",
       "  0.14758240880947265,\n",
       "  0.14829959578457333,\n",
       "  0.14722259839375815,\n",
       "  0.14810762882587455,\n",
       "  0.14860089868307114,\n",
       "  0.14810571491363503,\n",
       "  0.14710072788690765,\n",
       "  0.14842752358388334,\n",
       "  0.14771873069306216,\n",
       "  0.14744499506103614,\n",
       "  0.14777923168407547,\n",
       "  0.14714006816465702,\n",
       "  0.1472225525815572,\n",
       "  0.15361053440424186,\n",
       "  0.14925029779237414,\n",
       "  0.1486239271268012,\n",
       "  0.1462845126137374,\n",
       "  0.14815608046889778,\n",
       "  0.14884120644262386,\n",
       "  0.14826824468752695,\n",
       "  0.14784728445940548,\n",
       "  0.1488570620911935,\n",
       "  0.14814194253394528,\n",
       "  0.14999094561097168,\n",
       "  0.1487399593054775,\n",
       "  0.1499339776438853,\n",
       "  0.1476710703637865,\n",
       "  0.14919715543233214,\n",
       "  0.14967867046121566,\n",
       "  0.14854761576723485,\n",
       "  0.14942863959050368,\n",
       "  0.14928436270427137,\n",
       "  0.1491156704280348,\n",
       "  0.14850789515508545,\n",
       "  0.14977860795186151,\n",
       "  0.1486399003585416,\n",
       "  0.14788925814782344,\n",
       "  0.14843971430072708,\n",
       "  0.15042346627229736,\n",
       "  0.14924024536259592,\n",
       "  0.14870546900090717,\n",
       "  0.14802695015474918,\n",
       "  0.14871079513123112,\n",
       "  0.146074059700209,\n",
       "  0.14839177872867337,\n",
       "  0.14909929467276448,\n",
       "  0.14918056186584253,\n",
       "  0.14893199198894083,\n",
       "  0.14961067523570762,\n",
       "  0.14960187738613476,\n",
       "  0.15012669632773076,\n",
       "  0.14952799484192852,\n",
       "  0.14859593093454365,\n",
       "  0.14874836934050398,\n",
       "  0.14984696294875846,\n",
       "  0.14993979543861416,\n",
       "  0.14941414844776904,\n",
       "  0.15012414589346873,\n",
       "  0.14980984303272432,\n",
       "  0.14952484614378403,\n",
       "  0.16234389547672537,\n",
       "  0.1507112733901493,\n",
       "  0.14974561839231423,\n",
       "  0.14911935196095516,\n",
       "  0.1490548840383925,\n",
       "  0.15030295591032694,\n",
       "  0.14999501173576665,\n",
       "  0.15044346465063946,\n",
       "  0.1499918108392093,\n",
       "  0.14911591499629948,\n",
       "  0.1494946660740035,\n",
       "  0.15054701032146575,\n",
       "  0.15047500773318231,\n",
       "  0.1505023515413678,\n",
       "  0.15037423434356847,\n",
       "  0.15112902569983686,\n",
       "  0.14911476340854452,\n",
       "  0.14993190602768983,\n",
       "  0.1498016986020264,\n",
       "  0.14939015094072572,\n",
       "  0.1502927839016867,\n",
       "  0.1507246345281601,\n",
       "  0.150481391845951],\n",
       " 'val_accuracy': [0.9682539701461792,\n",
       "  0.9682539701461792,\n",
       "  0.9682539701461792,\n",
       "  0.9682539701461792,\n",
       "  0.9682539701461792,\n",
       "  0.9682539701461792,\n",
       "  0.9682539701461792,\n",
       "  0.9682539701461792,\n",
       "  0.9682539701461792,\n",
       "  0.9682539701461792,\n",
       "  0.9682539701461792,\n",
       "  0.9682539701461792,\n",
       "  0.9650793671607971,\n",
       "  0.9682539701461792,\n",
       "  0.9682539701461792,\n",
       "  0.9682539701461792,\n",
       "  0.9650793671607971,\n",
       "  0.9682539701461792,\n",
       "  0.9682539701461792,\n",
       "  0.9682539701461792,\n",
       "  0.9682539701461792,\n",
       "  0.9682539701461792,\n",
       "  0.9682539701461792,\n",
       "  0.9682539701461792,\n",
       "  0.9682539701461792,\n",
       "  0.9682539701461792,\n",
       "  0.9682539701461792,\n",
       "  0.9682539701461792,\n",
       "  0.9682539701461792,\n",
       "  0.9682539701461792,\n",
       "  0.9714285731315613,\n",
       "  0.9682539701461792,\n",
       "  0.9682539701461792,\n",
       "  0.9682539701461792,\n",
       "  0.9682539701461792,\n",
       "  0.9682539701461792,\n",
       "  0.9682539701461792,\n",
       "  0.9682539701461792,\n",
       "  0.9714285731315613,\n",
       "  0.9682539701461792,\n",
       "  0.9714285731315613,\n",
       "  0.9682539701461792,\n",
       "  0.9682539701461792,\n",
       "  0.9682539701461792,\n",
       "  0.9682539701461792,\n",
       "  0.9682539701461792,\n",
       "  0.9682539701461792,\n",
       "  0.9714285731315613,\n",
       "  0.9714285731315613,\n",
       "  0.9714285731315613,\n",
       "  0.9682539701461792,\n",
       "  0.9714285731315613,\n",
       "  0.9682539701461792,\n",
       "  0.9682539701461792,\n",
       "  0.9714285731315613,\n",
       "  0.9714285731315613,\n",
       "  0.9682539701461792,\n",
       "  0.9682539701461792,\n",
       "  0.9682539701461792,\n",
       "  0.9682539701461792,\n",
       "  0.9714285731315613,\n",
       "  0.9682539701461792,\n",
       "  0.9682539701461792,\n",
       "  0.9714285731315613,\n",
       "  0.9714285731315613,\n",
       "  0.9682539701461792,\n",
       "  0.9682539701461792,\n",
       "  0.9714285731315613,\n",
       "  0.9714285731315613,\n",
       "  0.9682539701461792,\n",
       "  0.9682539701461792,\n",
       "  0.9714285731315613,\n",
       "  0.9682539701461792,\n",
       "  0.9714285731315613,\n",
       "  0.9714285731315613,\n",
       "  0.9714285731315613,\n",
       "  0.9714285731315613,\n",
       "  0.9682539701461792,\n",
       "  0.9650793671607971,\n",
       "  0.9682539701461792,\n",
       "  0.9682539701461792,\n",
       "  0.9682539701461792,\n",
       "  0.9714285731315613,\n",
       "  0.9714285731315613,\n",
       "  0.9714285731315613,\n",
       "  0.9682539701461792,\n",
       "  0.9682539701461792,\n",
       "  0.9682539701461792,\n",
       "  0.9682539701461792,\n",
       "  0.9682539701461792,\n",
       "  0.9682539701461792,\n",
       "  0.9714285731315613,\n",
       "  0.9714285731315613,\n",
       "  0.9746031761169434,\n",
       "  0.9714285731315613,\n",
       "  0.9682539701461792,\n",
       "  0.9682539701461792,\n",
       "  0.9682539701461792,\n",
       "  0.9714285731315613,\n",
       "  0.9682539701461792],\n",
       " 'loss': [0.0021723137371095725,\n",
       "  0.0021444393499584317,\n",
       "  0.0021438903867450764,\n",
       "  0.002101054676284301,\n",
       "  0.0020799591202800994,\n",
       "  0.002104453592167156,\n",
       "  0.002051582929946788,\n",
       "  0.00200675937830077,\n",
       "  0.0019935732389154653,\n",
       "  0.0019720439652541042,\n",
       "  0.0019521458827566173,\n",
       "  0.0019359057385453682,\n",
       "  0.0018998402177757582,\n",
       "  0.0019538021488747937,\n",
       "  0.00186871710508973,\n",
       "  0.001849099651254202,\n",
       "  0.0018280294467744491,\n",
       "  0.0019040374995296155,\n",
       "  0.0018031794391288234,\n",
       "  0.0017770996490963527,\n",
       "  0.0017428487272517855,\n",
       "  0.001740836177511643,\n",
       "  0.0017317879356536817,\n",
       "  0.0016979913609244026,\n",
       "  0.0016796780142620711,\n",
       "  0.001668307108887863,\n",
       "  0.0016545015354719258,\n",
       "  0.0016345007200310447,\n",
       "  0.0016174367853603968,\n",
       "  0.0016126739821567806,\n",
       "  0.0015949390870256986,\n",
       "  0.0016304828777430455,\n",
       "  0.0015726469679382894,\n",
       "  0.001550968827676293,\n",
       "  0.0015539474212025706,\n",
       "  0.0015324543669202905,\n",
       "  0.0015168209841243544,\n",
       "  0.001502447800315393,\n",
       "  0.0014859936513983488,\n",
       "  0.0014747611759008046,\n",
       "  0.0014611037232766754,\n",
       "  0.0014608999261369452,\n",
       "  0.001437709744645959,\n",
       "  0.0014129235915149583,\n",
       "  0.0014128870833394484,\n",
       "  0.0014055639038180277,\n",
       "  0.0013932243667764395,\n",
       "  0.0013759464772619334,\n",
       "  0.001369533750937704,\n",
       "  0.0013605160355684594,\n",
       "  0.0013474499544271143,\n",
       "  0.0013385597345045512,\n",
       "  0.0013351298591768124,\n",
       "  0.0013187241995353213,\n",
       "  0.0013068120773622645,\n",
       "  0.001292843324544537,\n",
       "  0.0012890984206413918,\n",
       "  0.0012841124770874889,\n",
       "  0.0012744230603440338,\n",
       "  0.0012657420721685865,\n",
       "  0.001248901843136837,\n",
       "  0.0012613412179337071,\n",
       "  0.0012374223571892575,\n",
       "  0.0012210213973220525,\n",
       "  0.0012141794507108622,\n",
       "  0.0012072946328443382,\n",
       "  0.001201212000867526,\n",
       "  0.0011870680453385288,\n",
       "  0.0011825582348433128,\n",
       "  0.0011785050452812406,\n",
       "  0.0011616428633954702,\n",
       "  0.0011586674708193821,\n",
       "  0.0011474119992793247,\n",
       "  0.001139600652678554,\n",
       "  0.0011359917996881328,\n",
       "  0.0011330060339213948,\n",
       "  0.001122409603977307,\n",
       "  0.0011134452010789636,\n",
       "  0.0012654075545487202,\n",
       "  0.0011143652116404027,\n",
       "  0.0010900452822544947,\n",
       "  0.0010851968512099212,\n",
       "  0.0010750354786788075,\n",
       "  0.0010660039036313174,\n",
       "  0.0010615373970772636,\n",
       "  0.0010547778353076763,\n",
       "  0.0010463061331941364,\n",
       "  0.0010446212267981533,\n",
       "  0.0010363369659427875,\n",
       "  0.0010258540800439427,\n",
       "  0.0010249013668568207,\n",
       "  0.0010179610926783012,\n",
       "  0.0010047343436845099,\n",
       "  0.0010021882636656475,\n",
       "  0.0010019457043097166,\n",
       "  0.000990921009863102,\n",
       "  0.0009835623496055363,\n",
       "  0.0009847994705912016,\n",
       "  0.0009754892141463565,\n",
       "  0.0009675606107731639],\n",
       " 'accuracy': [1.0,\n",
       "  1.0,\n",
       "  1.0,\n",
       "  1.0,\n",
       "  1.0,\n",
       "  1.0,\n",
       "  1.0,\n",
       "  1.0,\n",
       "  1.0,\n",
       "  1.0,\n",
       "  1.0,\n",
       "  1.0,\n",
       "  1.0,\n",
       "  1.0,\n",
       "  1.0,\n",
       "  1.0,\n",
       "  1.0,\n",
       "  1.0,\n",
       "  1.0,\n",
       "  1.0,\n",
       "  1.0,\n",
       "  1.0,\n",
       "  1.0,\n",
       "  1.0,\n",
       "  1.0,\n",
       "  1.0,\n",
       "  1.0,\n",
       "  1.0,\n",
       "  1.0,\n",
       "  1.0,\n",
       "  1.0,\n",
       "  1.0,\n",
       "  1.0,\n",
       "  1.0,\n",
       "  1.0,\n",
       "  1.0,\n",
       "  1.0,\n",
       "  1.0,\n",
       "  1.0,\n",
       "  1.0,\n",
       "  1.0,\n",
       "  1.0,\n",
       "  1.0,\n",
       "  1.0,\n",
       "  1.0,\n",
       "  1.0,\n",
       "  1.0,\n",
       "  1.0,\n",
       "  1.0,\n",
       "  1.0,\n",
       "  1.0,\n",
       "  1.0,\n",
       "  1.0,\n",
       "  1.0,\n",
       "  1.0,\n",
       "  1.0,\n",
       "  1.0,\n",
       "  1.0,\n",
       "  1.0,\n",
       "  1.0,\n",
       "  1.0,\n",
       "  1.0,\n",
       "  1.0,\n",
       "  1.0,\n",
       "  1.0,\n",
       "  1.0,\n",
       "  1.0,\n",
       "  1.0,\n",
       "  1.0,\n",
       "  1.0,\n",
       "  1.0,\n",
       "  1.0,\n",
       "  1.0,\n",
       "  1.0,\n",
       "  1.0,\n",
       "  1.0,\n",
       "  1.0,\n",
       "  1.0,\n",
       "  1.0,\n",
       "  1.0,\n",
       "  1.0,\n",
       "  1.0,\n",
       "  1.0,\n",
       "  1.0,\n",
       "  1.0,\n",
       "  1.0,\n",
       "  1.0,\n",
       "  1.0,\n",
       "  1.0,\n",
       "  1.0,\n",
       "  1.0,\n",
       "  1.0,\n",
       "  1.0,\n",
       "  1.0,\n",
       "  1.0,\n",
       "  1.0,\n",
       "  1.0,\n",
       "  1.0,\n",
       "  1.0,\n",
       "  1.0]}"
      ]
     },
     "execution_count": 32,
     "metadata": {},
     "output_type": "execute_result"
    }
   ],
   "source": [
    "model.history.history"
   ]
  },
  {
   "cell_type": "code",
   "execution_count": 34,
   "metadata": {
    "colab": {
     "base_uri": "https://localhost:8080/",
     "height": 430
    },
    "colab_type": "code",
    "executionInfo": {
     "elapsed": 1308,
     "status": "ok",
     "timestamp": 1560987288359,
     "user": {
      "displayName": "Ibrahim Faisal",
      "photoUrl": "https://lh3.googleusercontent.com/-67DMczu7rgM/AAAAAAAAAAI/AAAAAAAAAAc/6f5FCnBgxFs/s64/photo.jpg",
      "userId": "02685917636347920688"
     },
     "user_tz": -600
    },
    "id": "UhiEYNVqy-Q6",
    "outputId": "f2584738-9742-4c15-8735-98938107e333",
    "scrolled": true
   },
   "outputs": [
    {
     "data": {
      "image/png": "[encoded data removed]",
      "text/plain": [
       "<Figure size 1296x432 with 2 Axes>"
      ]
     },
     "metadata": {
      "needs_background": "light"
     },
     "output_type": "display_data"
    }
   ],
   "source": [
    "fig, ax = plt.subplots(1, 2, figsize = (18, 6))\n",
    "fig.subplots_adjust(left = 0.02, right = 0.98, wspace = 0.2)\n",
    "\n",
    "plt.rcParams.update({'font.size': 18})\n",
    "\n",
    "# Plot training & validation accuracy values\n",
    "ax[0].plot(model.history.history['accuracy'], label = 'Training') #['acc'], label = 'Training')\n",
    "ax[0].plot(model.history.history['val_accuracy'], label = 'Validation')\n",
    "ax[0].set_title('Model accuracy')\n",
    "ax[0].set_ylabel('Accuracy')\n",
    "ax[0].set_xlabel('Epoch')\n",
    "ax[0].legend()\n",
    "\n",
    "# Plot training & validation loss values\n",
    "ax[1].plot(model.history.history['loss'], label = 'Training')\n",
    "ax[1].plot(model.history.history['val_loss'], label = 'Validation')\n",
    "ax[1].set_title('Model loss')\n",
    "ax[1].set_ylabel('Loss')\n",
    "ax[1].set_xlabel('Epoch')\n",
    "ax[1].legend()\n",
    "\n",
    "plt.show()"
   ]
  },
  {
   "cell_type": "code",
   "execution_count": 23,
   "metadata": {
    "colab": {},
    "colab_type": "code",
    "id": "grQoh06wy-Q7"
   },
   "outputs": [],
   "source": [
    "def show_digit():\n",
    "    id = np.random.randint(len(predictions))\n",
    "    XTest = X_test[id].reshape(8, 8)\n",
    "    plt.figure(figsize = (2, 2))\n",
    "    plt.imshow(XTest, cmap = 'gray')\n",
    "    plt.title('Prediction: %d' % predictions[id])\n",
    "    plt.xticks([])\n",
    "    plt.yticks([])\n",
    "    plt.show()"
   ]
  },
  {
   "cell_type": "code",
   "execution_count": 24,
   "metadata": {
    "colab": {},
    "colab_type": "code",
    "id": "4A6G2LEPy-Q9"
   },
   "outputs": [],
   "source": [
    "def show_10_digits():\n",
    "    fig, ax = plt.subplots(2, 5, figsize = (8, 4))\n",
    "    fig.subplots_adjust(left = 0.02, right = 0.98, top = 0.8, wspace = 0.2, hspace = 0.3)\n",
    "    fig.suptitle('Ten Predictions', fontsize = 12, fontweight = 'bold')\n",
    "\n",
    "    plt.rcParams.update({'font.size': 10})\n",
    "    \n",
    "    ids = np.random.randint(len(predictions), size = 10)\n",
    "    r = 0\n",
    "    c = 0\n",
    "    for id in ids:\n",
    "        XTest = X_test[id].reshape(8, 8)\n",
    "\n",
    "        # original image\n",
    "        ax[r, c].imshow(XTest, cmap = 'gray')\n",
    "        ax[r, c].set_title('Prediction: %d' % predictions[id])\n",
    "        ax[r, c].set_xticks([])\n",
    "        ax[r, c].set_yticks([])\n",
    "        c += 1\n",
    "        if c > 4:\n",
    "            r += 1\n",
    "            c = 0\n",
    "\n",
    "    plt.show()"
   ]
  },
  {
   "cell_type": "code",
   "execution_count": 25,
   "metadata": {
    "colab": {
     "base_uri": "https://localhost:8080/",
     "height": 165
    },
    "colab_type": "code",
    "executionInfo": {
     "elapsed": 750,
     "status": "ok",
     "timestamp": 1560987306209,
     "user": {
      "displayName": "Ibrahim Faisal",
      "photoUrl": "https://lh3.googleusercontent.com/-67DMczu7rgM/AAAAAAAAAAI/AAAAAAAAAAc/6f5FCnBgxFs/s64/photo.jpg",
      "userId": "02685917636347920688"
     },
     "user_tz": -600
    },
    "id": "iG9wf-bTy-Q-",
    "outputId": "2092ecd0-c4a8-4252-d4df-3f383a3d3b34"
   },
   "outputs": [
    {
     "data": {
      "image/png": "[encoded data removed]",
      "text/plain": [
       "<Figure size 144x144 with 1 Axes>"
      ]
     },
     "metadata": {},
     "output_type": "display_data"
    }
   ],
   "source": [
    "# show one\n",
    "show_digit()"
   ]
  },
  {
   "cell_type": "code",
   "execution_count": 26,
   "metadata": {
    "colab": {
     "base_uri": "https://localhost:8080/",
     "height": 281
    },
    "colab_type": "code",
    "executionInfo": {
     "elapsed": 958,
     "status": "ok",
     "timestamp": 1560987309548,
     "user": {
      "displayName": "Ibrahim Faisal",
      "photoUrl": "https://lh3.googleusercontent.com/-67DMczu7rgM/AAAAAAAAAAI/AAAAAAAAAAc/6f5FCnBgxFs/s64/photo.jpg",
      "userId": "02685917636347920688"
     },
     "user_tz": -600
    },
    "id": "Ue7Oo4Vxy-Q_",
    "outputId": "e6dc190e-2096-4da0-ab9c-db6d67e18e3c",
    "scrolled": true
   },
   "outputs": [
    {
     "data": {
      "image/png": "[encoded data removed]",
      "text/plain": [
       "<Figure size 576x288 with 10 Axes>"
      ]
     },
     "metadata": {},
     "output_type": "display_data"
    }
   ],
   "source": [
    "# show ten\n",
    "show_10_digits()"
   ]
  },
  {
   "cell_type": "code",
   "execution_count": 0,
   "metadata": {
    "colab": {},
    "colab_type": "code",
    "id": "7nVtWUtCejh_"
   },
   "outputs": [],
   "source": [
    "by Alex Dance"
   ]
  }
 ],
 "metadata": {
  "colab": {
   "collapsed_sections": [],
   "name": "DSIA Demo-10-Keras.ipynb",
   "provenance": []
  },
  "kernelspec": {
   "display_name": "Python 3",
   "language": "python",
   "name": "python3"
  },
  "language_info": {
   "codemirror_mode": {
    "name": "ipython",
    "version": 3
   },
   "file_extension": ".py",
   "mimetype": "text/x-python",
   "name": "python",
   "nbconvert_exporter": "python",
   "pygments_lexer": "ipython3",
   "version": "3.7.6"
  }
 },
 "nbformat": 4,
 "nbformat_minor": 1
}
